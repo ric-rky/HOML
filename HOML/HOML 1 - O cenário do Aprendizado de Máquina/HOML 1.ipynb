{
 "cells": [
  {
   "cell_type": "markdown",
   "metadata": {},
   "source": [
    "### Exercícios (p. 28)"
   ]
  },
  {
   "cell_type": "markdown",
   "metadata": {},
   "source": [
    "1. O aprendizado de máquina é a habilidade que permite os computadores a \"aprenderem\" via um conjunto de dados, sem a necessidade de programá-los."
   ]
  },
  {
   "cell_type": "markdown",
   "metadata": {},
   "source": [
    "2. O AM é deal quando\n",
    "- os problemas requerem ajustes muito finos e constantes;\n",
    "- os problemas são tão complexos que não existe uma solução por meio de abordagens tradicionais;\n",
    "- há uma grande quantidade de dados disponíveis;\n",
    "- é necessária a adaptabilidade a sistemas instáveis."
   ]
  },
  {
   "cell_type": "markdown",
   "metadata": {},
   "source": [
    "3. Um conjunto de treinamento rotulado é um data set que possui as soluções desejadas, que serão fornecidas ao algoritmo de AM."
   ]
  },
  {
   "cell_type": "markdown",
   "metadata": {},
   "source": [
    "4. As duas tarefas supervisionadas mais comuns são:\n",
    "- Regressão\n",
    "- Classificação."
   ]
  },
  {
   "cell_type": "markdown",
   "metadata": {},
   "source": [
    "5. Quatro tarefas não supervisionadas são:\n",
    "- Clustering\n",
    "- Detecção de anomalias e novidades\n",
    "- Visualização e redução da dimensionalidade\n",
    "- Aprendizado de regras por associação."
   ]
  },
  {
   "cell_type": "markdown",
   "metadata": {},
   "source": [
    "6. Para possibilitar o robô a desbravar territórios inexplorados, o tipo de aprendizado ideal é o **Aprendizado por Reforço**."
   ]
  },
  {
   "cell_type": "markdown",
   "metadata": {},
   "source": [
    "7. A fim de segmentar clientes em diversos grupos, o tipo de aprendizado seria **Clustering**, caso não saibamos como definir os grupos.  \n",
    "Caso saibamos, de antemão, como gostaríamos de organizar os grupos, podemos fornecer muitos exemplos de cada grupo para um algoritmo de classificação (aprendizado supervisionado), e ele classificará os clientes nesses grupos."
   ]
  },
  {
   "cell_type": "markdown",
   "metadata": {},
   "source": [
    "8. O problema da detecção de spam tem a ver com aprendizado supervisionado, pois informamos ao algoritmo os rótulos de spam e não spam."
   ]
  },
  {
   "cell_type": "markdown",
   "metadata": {},
   "source": [
    "9. No aprendizado online, treinamos o algoritmo de maneira incremental, isso é, fornecemos as instâncias de dados de forma sequencial, individual ou em pequenos grupos."
   ]
  },
  {
   "cell_type": "markdown",
   "metadata": {},
   "source": [
    "10. O aprendizado out-of-core é um exemplo de aprendizado online no qual o algoritmo faz o upload parcial dos dados e executa uma etapa do treinamento nesses dados.  \n",
    "Então, o algoritmo repete esse processo até que todos os dados tenham sido treinados."
   ]
  },
  {
   "cell_type": "markdown",
   "metadata": {},
   "source": [
    "11. O tipo de algoritmo de aprendizado que depende de uma medida de similaridade para efetuar predições é o _aprendizado baseado em instância_.  \n",
    "Nesse tipo de aprendizado, o sistema aprende os exemplos por meio da memorização e depois generaliza em novos casos, ao empregar uma medida de similaridade a fim de compará-los a outros exemplos aprendidados."
   ]
  },
  {
   "cell_type": "markdown",
   "metadata": {},
   "source": [
    "12. Parâmetros dizem respeito ao modelo (caso seja paramétrico), e hiperparâmetros referem-se ao algoritmo de aprendizado em si. Por isso, os hiperparâmetros controlam o comportamento do processo de aprendizado. "
   ]
  },
  {
   "cell_type": "markdown",
   "metadata": {},
   "source": [
    "13. No aprendizado baseado em modelo, utiliza-se uma função matemática com base no test data set, e utilizamos tal modelo para fazer predições.  \n",
    "Para avaliar o desempenho do modelo, normalmente faz-se uso de uma função de custo, que calcula o nível de habilidade de um sistema em realizar predições sobre os dados de treinamento, além de uma penalidade para a complexidade do modelo caso ele seja regularizado.  \n",
    "Para realizar predições, fornecemos as características da nova instância na função de predição do modelo, usando os valores dos parâmetros encontrados pelo algoritmo de aprendizagem.  "
   ]
  },
  {
   "cell_type": "markdown",
   "metadata": {},
   "source": [
    "14. Alguns dos principais desafios do aprendizado de máquina são:\n",
    "- Quantidade insuficiente de dados;\n",
    "- Dados de baixa qualidade;\n",
    "- Dados não representativos;\n",
    "- Características não informativas;\n",
    "- Modelos excessivamente simples que não se adequam aos dados de treinamento;\n",
    "- Modelos excessivamente complexos que causam _overfitting_."
   ]
  },
  {
   "cell_type": "markdown",
   "metadata": {},
   "source": [
    "15. Caso o modelo tenha um bom desempenho nos dados de treinamento, mas seu uso deixa a desejar em instâncias novas, temos a ocorrência de _overfitting_ (sobreajuste).  \n",
    "Buscando contornar o overfitting, podemos:\n",
    "- Simplificar o modelo ao selecionar um com menos parâmetros;\n",
    "- Coletar mais dados de treinamento;\n",
    "- Reduzir o ruído nos dados de treinamento (por exemplo, corrigir erros de dados e remover outliers)."
   ]
  },
  {
   "cell_type": "markdown",
   "metadata": {},
   "source": [
    "16. A função do conjunto de teste é, como o nome já sugere, testar o modelo, que foi obtido com base no conjunto de treinamento."
   ]
  },
  {
   "cell_type": "markdown",
   "metadata": {},
   "source": [
    "17. O conjunto de validação é um subconjunto dos dados que é separado do conjunto de treinamento. Ele tem o propósito de ajustar e validar o modelo durante o processo de treinamento, ajudando na escolha dos melhores hiperparâmetros e evitando o overfitting (ajuste excessivo aos dados de treinamento).  \n",
    "O modelo é treinado usando o conjunto de treinamento e, periodicamente, validado no conjunto de validação para garantir que ele esteja generalizando bem.  \n",
    "Após o modelo ser treinado e validado, o conjunto de testes é usado para avaliar o desempenho final do modelo. O conjunto de testes é composto por dados que o modelo nunca viu antes, fornecendo uma avaliação imparcial sobre a sua capacidade de generalização para novos dados.  "
   ]
  },
  {
   "cell_type": "markdown",
   "metadata": {},
   "source": [
    "18. O train-dev set é um subconjunto do conjunto de treinamento usado para ajustes e validações intermediárias durante o processo de treinamento de um modelo. Ele ajuda a otimizar hiperparâmetros e evitar overfitting, sem que o modelo seja avaliado no conjunto de testes. A principal diferença entre o train-dev set e o conjunto de validação é que o train-dev set faz parte do conjunto de treinamento original, enquanto o conjunto de validação é separado dele."
   ]
  },
  {
   "cell_type": "markdown",
   "metadata": {},
   "source": [
    "19. Ajustar o hiperparâmetro de regularização com base no conjunto de teste pode levar a overfitting e viés de avaliação, pois o modelo pode aprender características específicas do teste e ter um desempenho inflacionado.  \n",
    "Isso compromete a capacidade de generalização do modelo, tornando os resultados não confiáveis para dados novos.  \n",
    "O conjunto de teste deve ser usado apenas para avaliação final, sem influenciar o processo de ajuste de hiperparâmetros."
   ]
  },
  {
   "cell_type": "markdown",
   "metadata": {},
   "source": []
  }
 ],
 "metadata": {
  "kernelspec": {
   "display_name": "DS_env",
   "language": "python",
   "name": "python3"
  },
  "language_info": {
   "name": "python",
   "version": "3.12.5"
  }
 },
 "nbformat": 4,
 "nbformat_minor": 2
}
